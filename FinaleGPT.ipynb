{
  "nbformat": 4,
  "nbformat_minor": 0,
  "metadata": {
    "colab": {
      "provenance": [],
      "gpuType": "T4"
    },
    "kernelspec": {
      "name": "python3",
      "display_name": "Python 3"
    },
    "language_info": {
      "name": "python"
    },
    "accelerator": "GPU"
  },
  "cells": [
    {
      "cell_type": "markdown",
      "source": [
        "a. import the package needed & define the deivce used"
      ],
      "metadata": {
        "id": "zMcteopR8x7q"
      }
    },
    {
      "cell_type": "code",
      "execution_count": null,
      "metadata": {
        "id": "H0BMGlGc7ttj"
      },
      "outputs": [],
      "source": [
        "import torch\n",
        "import pandas as pd\n",
        "import numpy as np\n",
        "import matplotlib.pyplot as plt\n",
        "from sklearn.model_selection import train_test_split\n",
        "from torch.nn.utils.rnn import pad_sequence\n",
        "import torch.nn as nn\n",
        "from torch.nn import functional as F\n",
        "\n",
        "device = 'cuda' if torch.cuda.is_available() else 'cpu'"
      ]
    },
    {
      "cell_type": "markdown",
      "source": [
        "b. mounting the drive"
      ],
      "metadata": {
        "id": "0qiaLzjp86We"
      }
    },
    {
      "cell_type": "code",
      "source": [
        "from google.colab import drive\n",
        "drive.mount('/content/drive')"
      ],
      "metadata": {
        "colab": {
          "base_uri": "https://localhost:8080/"
        },
        "id": "FL6kjDFo7y2l",
        "outputId": "9e3f8c93-484e-4491-8711-ba97bffc6b1f"
      },
      "execution_count": null,
      "outputs": [
        {
          "output_type": "stream",
          "name": "stdout",
          "text": [
            "Mounted at /content/drive\n"
          ]
        }
      ]
    },
    {
      "cell_type": "markdown",
      "source": [
        "c.open file & train the sentence piece encoder"
      ],
      "metadata": {
        "id": "_wPLGMqc8-ds"
      }
    },
    {
      "cell_type": "code",
      "source": [
        "with open(\"/content/drive/MyDrive/files/dataset.txt\" , \"r\" , encoding=\"utf-8\") as file:\n",
        "  text = file.read()\n",
        "\n",
        "import sentencepiece as spm\n",
        "spm.SentencePieceTrainer.train(input='/content/drive/MyDrive/files/dataset.txt', model_prefix='m', vocab_size=3000) #setting vocab to higher value to encode sub words\n",
        "sp = spm.SentencePieceProcessor(model_file='/content/m.model')"
      ],
      "metadata": {
        "collapsed": true,
        "id": "o7L6MHSh70gv"
      },
      "execution_count": null,
      "outputs": []
    },
    {
      "cell_type": "markdown",
      "source": [
        "d. Load the dataset and encode it"
      ],
      "metadata": {
        "id": "CeXuE1Yh9RSL"
      }
    },
    {
      "cell_type": "code",
      "source": [
        "df = pd.read_csv(\"/content/drive/MyDrive/files/dataset.csv\")\n",
        "df.columns=[\"question\" , \"answer\"]"
      ],
      "metadata": {
        "id": "_rtKmXDA8oZU"
      },
      "execution_count": null,
      "outputs": []
    },
    {
      "cell_type": "code",
      "source": [
        "def encode_data():\n",
        "  x = [torch.tensor(sp.encode(i)) for i in df[\"question\"]]\n",
        "  y = [torch.tensor(sp.encode(i)) for i in df[\"answer\"]]\n",
        "  padding_x  = pad_sequence(x , batch_first=True , padding_value=0)\n",
        "  padding_y  = pad_sequence(y , batch_first=True , padding_value=0)\n",
        "\n",
        "  desired_padding = padding_x.size(1) - padding_y.size(1)\n",
        "  padding_y =  F.pad(padding_y , (0, desired_padding), value=0)\n",
        "  return padding_x , padding_y\n",
        "\n",
        "X,Y = encode_data()"
      ],
      "metadata": {
        "id": "nrM4TydM997e"
      },
      "execution_count": null,
      "outputs": []
    },
    {
      "cell_type": "markdown",
      "source": [
        "e. Variable Initialization"
      ],
      "metadata": {
        "id": "aK8Qr5YJOO8A"
      }
    },
    {
      "cell_type": "code",
      "source": [
        "batch_size = 4 #number of inputs processed in the same time\n",
        "block_size = 307 #length of the block\n",
        "num_iter = (len(X)-100)//batch_size\n",
        "learning_rate = 1e-3\n",
        "n_embd = 64 # size of the embeddings for example each token represented with 64 embedding\n",
        "n_head = 4 # number of heads that works in parallel in multi headed\n",
        "num_layers = 5\n",
        "eval_interval = 100 #print losess each 100 iteration\n",
        "eval_iters = 200\n",
        "vocab_size = 3000\n",
        "torch.manual_seed(1337)"
      ],
      "metadata": {
        "colab": {
          "base_uri": "https://localhost:8080/"
        },
        "id": "V7Vgioi-OXLT",
        "outputId": "8372fdd6-71b2-4006-db34-60b99c0ffa1d"
      },
      "execution_count": null,
      "outputs": [
        {
          "output_type": "execute_result",
          "data": {
            "text/plain": [
              "<torch._C.Generator at 0x7f31a9790990>"
            ]
          },
          "metadata": {},
          "execution_count": 8
        }
      ]
    },
    {
      "cell_type": "markdown",
      "source": [
        "f. Generate Batch"
      ],
      "metadata": {
        "id": "-d_o1UpNS3MP"
      }
    },
    {
      "cell_type": "code",
      "source": [
        "trainX = X[:-100]\n",
        "validX = X[-100:]\n",
        "trainY  =Y[:-100]\n",
        "validY = Y[-100:]\n",
        "position = 0\n",
        "def get_batch(split):\n",
        "  if split == \"train\":\n",
        "    x = torch.stack([trainX[i] for i in range(position,position+batch_size)])\n",
        "    y =  torch.stack([trainY[i] for i in range(position,position+batch_size)])\n",
        "  else :\n",
        "    ix = torch.randint(100, (batch_size,))\n",
        "    x = torch.stack([validX[i] for i in ix])\n",
        "    y =  torch.stack([validY[i] for i in ix])\n",
        "  x, y = x.to(device), y.to(device)\n",
        "  return x , y\n",
        "\n",
        "get_batch(\"valid\")"
      ],
      "metadata": {
        "colab": {
          "base_uri": "https://localhost:8080/"
        },
        "id": "l6lDXl_OS5bt",
        "outputId": "fec1193a-382f-4e13-a2c4-37d7f2344ee7"
      },
      "execution_count": null,
      "outputs": [
        {
          "output_type": "execute_result",
          "data": {
            "text/plain": [
              "(tensor([[119,  10,  25,  ...,   0,   0,   0],\n",
              "         [ 61,  12,   7,  ...,   0,   0,   0],\n",
              "         [ 25,  10, 561,  ...,   0,   0,   0],\n",
              "         [ 61,   3,  21,  ...,   0,   0,   0]], device='cuda:0'),\n",
              " tensor([[ 481, 1563,  124,  ...,    0,    0,    0],\n",
              "         [  47,   12,   70,  ...,    0,    0,    0],\n",
              "         [ 380,  128,    8,  ...,    0,    0,    0],\n",
              "         [  50,  177,  600,  ...,    0,    0,    0]], device='cuda:0'))"
            ]
          },
          "metadata": {},
          "execution_count": 9
        }
      ]
    },
    {
      "cell_type": "markdown",
      "source": [
        "g. Transformer Modules"
      ],
      "metadata": {
        "id": "xDhJS9LLOKBM"
      }
    },
    {
      "cell_type": "code",
      "source": [],
      "metadata": {
        "id": "DtI1JTbYwWMW"
      },
      "execution_count": null,
      "outputs": []
    },
    {
      "cell_type": "markdown",
      "source": [
        "h. Testing"
      ],
      "metadata": {
        "id": "hLfUg5D_wUB3"
      }
    },
    {
      "cell_type": "code",
      "source": [
        "context = \"hello how you doing ?\"\n",
        "converted = [sp.encode(context)]\n",
        "converted = torch.tensor(converted , device=device)\n",
        "converted =  F.pad(converted , (0, 307 - len(converted) ), value=0)\n",
        "print(converted)\n",
        "print(sp.decode(m.generate(converted, max_number_tokens=20)[0].tolist()))"
      ],
      "metadata": {
        "colab": {
          "base_uri": "https://localhost:8080/"
        },
        "id": "yztrZwCAkvlv",
        "outputId": "bb97945e-13f9-424a-a804-6e3d8c4b7620"
      },
      "execution_count": null,
      "outputs": [
        {
          "output_type": "stream",
          "name": "stdout",
          "text": [
            "tensor([[107,  48, 103, 124,  10, 338,   3,  11,   0,   0,   0,   0,   0,   0,\n",
            "           0,   0,   0,   0,   0,   0,   0,   0,   0,   0,   0,   0,   0,   0,\n",
            "           0,   0,   0,   0,   0,   0,   0,   0,   0,   0,   0,   0,   0,   0,\n",
            "           0,   0,   0,   0,   0,   0,   0,   0,   0,   0,   0,   0,   0,   0,\n",
            "           0,   0,   0,   0,   0,   0,   0,   0,   0,   0,   0,   0,   0,   0,\n",
            "           0,   0,   0,   0,   0,   0,   0,   0,   0,   0,   0,   0,   0,   0,\n",
            "           0,   0,   0,   0,   0,   0,   0,   0,   0,   0,   0,   0,   0,   0,\n",
            "           0,   0,   0,   0,   0,   0,   0,   0,   0,   0,   0,   0,   0,   0,\n",
            "           0,   0,   0,   0,   0,   0,   0,   0,   0,   0,   0,   0,   0,   0,\n",
            "           0,   0,   0,   0,   0,   0,   0,   0,   0,   0,   0,   0,   0,   0,\n",
            "           0,   0,   0,   0,   0,   0,   0,   0,   0,   0,   0,   0,   0,   0,\n",
            "           0,   0,   0,   0,   0,   0,   0,   0,   0,   0,   0,   0,   0,   0,\n",
            "           0,   0,   0,   0,   0,   0,   0,   0,   0,   0,   0,   0,   0,   0,\n",
            "           0,   0,   0,   0,   0,   0,   0,   0,   0,   0,   0,   0,   0,   0,\n",
            "           0,   0,   0,   0,   0,   0,   0,   0,   0,   0,   0,   0,   0,   0,\n",
            "           0,   0,   0,   0,   0,   0,   0,   0,   0,   0,   0,   0,   0,   0,\n",
            "           0,   0,   0,   0,   0,   0,   0,   0,   0,   0,   0,   0,   0,   0,\n",
            "           0,   0,   0,   0,   0,   0,   0,   0,   0,   0,   0,   0,   0,   0,\n",
            "           0,   0,   0,   0,   0,   0,   0,   0,   0,   0,   0,   0,   0,   0,\n",
            "           0,   0,   0,   0,   0,   0,   0,   0,   0,   0,   0,   0,   0,   0,\n",
            "           0,   0,   0,   0,   0,   0,   0,   0,   0,   0,   0,   0,   0,   0,\n",
            "           0,   0,   0,   0,   0,   0,   0,   0,   0,   0,   0,   0,   0,   0,\n",
            "           0,   0,   0,   0,   0,   0]], device='cuda:0')\n",
            "hello how you doing ? ⁇  ⁇  ⁇  ⁇  ⁇  ⁇  ⁇  ⁇  ⁇  ⁇  ⁇  ⁇  ⁇  ⁇  ⁇  ⁇  ⁇  ⁇  ⁇  ⁇  ⁇  ⁇  ⁇  ⁇  ⁇  ⁇  ⁇  ⁇  ⁇  ⁇  ⁇  ⁇  ⁇  ⁇  ⁇  ⁇  ⁇  ⁇  ⁇  ⁇  ⁇  ⁇  ⁇  ⁇  ⁇  ⁇  ⁇  ⁇  ⁇  ⁇  ⁇  ⁇  ⁇  ⁇  ⁇  ⁇  ⁇  ⁇  ⁇  ⁇  ⁇  ⁇  ⁇  ⁇  ⁇  ⁇  ⁇  ⁇  ⁇  ⁇  ⁇  ⁇  ⁇  ⁇  ⁇  ⁇  ⁇  ⁇  ⁇  ⁇  ⁇  ⁇  ⁇  ⁇  ⁇  ⁇  ⁇  ⁇  ⁇  ⁇  ⁇  ⁇  ⁇  ⁇  ⁇  ⁇  ⁇  ⁇  ⁇  ⁇  ⁇  ⁇  ⁇  ⁇  ⁇  ⁇  ⁇  ⁇  ⁇  ⁇  ⁇  ⁇  ⁇  ⁇  ⁇  ⁇  ⁇  ⁇  ⁇  ⁇  ⁇  ⁇  ⁇  ⁇  ⁇  ⁇  ⁇  ⁇  ⁇  ⁇  ⁇  ⁇  ⁇  ⁇  ⁇  ⁇  ⁇  ⁇  ⁇  ⁇  ⁇  ⁇  ⁇  ⁇  ⁇  ⁇  ⁇  ⁇  ⁇  ⁇  ⁇  ⁇  ⁇  ⁇  ⁇  ⁇  ⁇  ⁇  ⁇  ⁇  ⁇  ⁇  ⁇  ⁇  ⁇  ⁇  ⁇  ⁇  ⁇  ⁇  ⁇  ⁇  ⁇  ⁇  ⁇  ⁇  ⁇  ⁇  ⁇  ⁇  ⁇  ⁇  ⁇  ⁇  ⁇  ⁇  ⁇  ⁇  ⁇  ⁇  ⁇  ⁇  ⁇  ⁇  ⁇  ⁇  ⁇  ⁇  ⁇  ⁇  ⁇  ⁇  ⁇  ⁇  ⁇  ⁇  ⁇  ⁇  ⁇  ⁇  ⁇  ⁇  ⁇  ⁇  ⁇  ⁇  ⁇  ⁇  ⁇  ⁇  ⁇  ⁇  ⁇  ⁇  ⁇  ⁇  ⁇  ⁇  ⁇  ⁇  ⁇  ⁇  ⁇  ⁇  ⁇  ⁇  ⁇  ⁇  ⁇  ⁇  ⁇  ⁇  ⁇  ⁇  ⁇  ⁇  ⁇  ⁇  ⁇  ⁇  ⁇  ⁇  ⁇  ⁇  ⁇  ⁇  ⁇  ⁇  ⁇  ⁇  ⁇  ⁇  ⁇  ⁇  ⁇  ⁇  ⁇  ⁇  ⁇  ⁇  ⁇  ⁇  ⁇  ⁇  ⁇  ⁇  ⁇  ⁇  ⁇  ⁇  ⁇  ⁇  ⁇  ⁇  ⁇  ⁇  ⁇  ⁇  ⁇  ⁇  ⁇  ⁇  ⁇  ⁇  ⁇  ⁇  ⁇  ⁇  ⁇  ⁇  ⁇  ⁇  ⁇  ⁇  ⁇  ⁇  ⁇  ⁇  ⁇  ⁇  ⁇  ⁇  ⁇  ⁇  ⁇  ⁇  ⁇  ⁇  ⁇  ⁇  ⁇  ⁇  ⁇  ⁇  ⁇  ⁇ \n"
          ]
        }
      ]
    }
  ]
}